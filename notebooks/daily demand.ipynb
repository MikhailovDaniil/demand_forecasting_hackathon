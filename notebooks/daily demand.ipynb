{
 "cells": [
  {
   "cell_type": "markdown",
   "id": "19367f9b",
   "metadata": {},
   "source": [
    "#### Даня, 3 октября"
   ]
  },
  {
   "cell_type": "markdown",
   "id": "dc1d5fd6",
   "metadata": {},
   "source": [
    "# Обучение модели и предсказания"
   ]
  },
  {
   "cell_type": "code",
   "execution_count": 2,
   "id": "86aafbd6",
   "metadata": {},
   "outputs": [],
   "source": [
    "import pandas as pd\n",
    "import zipfile\n",
    "from datetime import date\n",
    "import datetime\n",
    "import calendar\n",
    "import numpy as np\n",
    "import matplotlib.pyplot as plt\n",
    "import seaborn as sn\n",
    "import matplotlib.dates as mdates\n",
    "import random\n",
    "from tqdm import tqdm\n",
    "from sklearn.linear_model import LinearRegression\n",
    "from sklearn.model_selection import cross_val_predict\n",
    "from sklearn.model_selection import train_test_split "
   ]
  },
  {
   "cell_type": "code",
   "execution_count": 3,
   "id": "3cf9d331",
   "metadata": {},
   "outputs": [],
   "source": [
    "# тренировочные данные\n",
    "\n",
    "df_friday_train = pd.read_csv(\"./proceeded/train/friday_train.csv\", sep = \";\")\n",
    "df_monday_train = pd.read_csv(\"./proceeded/train/monday_train.csv\", sep = \";\")\n",
    "df_saturday_train = pd.read_csv(\"./proceeded/train/saturday_train.csv\", sep = \";\")\n",
    "df_sunday_train = pd.read_csv(\"./proceeded/train/sunday_train.csv\", sep = \";\")\n",
    "df_thursday_train = pd.read_csv(\"./proceeded/train/thursday_train.csv\", sep = \";\")\n",
    "df_tuesday_train = pd.read_csv(\"./proceeded/train/tuesday_train.csv\", sep = \";\")\n",
    "df_wednesday_train = pd.read_csv(\"./proceeded/train/wednesday_train.csv\", sep = \";\")\n",
    "\n",
    "\n",
    "df_friday_train = df_friday_train.dropna()\n",
    "df_monday_train = df_monday_train.dropna()\n",
    "df_saturday_train = df_saturday_train.dropna()\n",
    "df_sunday_train = df_sunday_train.dropna()\n",
    "df_thursday_train = df_thursday_train.dropna()\n",
    "df_tuesday_train = df_tuesday_train.dropna()\n",
    "df_wednesday_train = df_wednesday_train.dropna()\n",
    "\n",
    "\n",
    "# данные для предсказаний\n",
    "test_df = pd.read_csv(\"./proceeded/test.csv\", sep = \";\")\n",
    "\n",
    "# медианы по регионам\n",
    "medians = pd.read_csv('./proceeded/medians.csv', sep = \";\")"
   ]
  },
  {
   "cell_type": "code",
   "execution_count": 38,
   "id": "b0a89737",
   "metadata": {},
   "outputs": [],
   "source": [
    "# Преобразование тренировочных и тестовых данных\n",
    "\n",
    "X_mon = df_monday_train.drop(['delivery_area_id', 'last_date','weekday', 'y'], axis = 1)\n",
    "y_mon = df_monday_train[[\"y\"]]\n",
    "\n",
    "X_tue = df_tuesday_train.drop(['delivery_area_id', 'last_date','weekday', 'y'], axis = 1)\n",
    "y_tue = df_tuesday_train[[\"y\"]]\n",
    "\n",
    "X_wed = df_wednesday_train.drop(['delivery_area_id', 'last_date','weekday', 'y'], axis = 1)\n",
    "y_wed = df_wednesday_train[[\"y\"]]\n",
    "\n",
    "X_thu = df_thursday_train.drop(['delivery_area_id', 'last_date','weekday', 'y'], axis = 1)\n",
    "y_thu = df_thursday_train[[\"y\"]]\n",
    "\n",
    "X_fri = df_friday_train.drop(['delivery_area_id', 'last_date','weekday', 'y'], axis = 1)\n",
    "y_fri = df_friday_train[[\"y\"]]\n",
    "\n",
    "X_sat = df_saturday_train.drop(['delivery_area_id', 'last_date','weekday', 'y'], axis = 1)\n",
    "y_sat = df_saturday_train[[\"y\"]]\n",
    "\n",
    "X_sun = df_sunday_train.drop(['delivery_area_id', 'last_date','weekday', 'y'], axis = 1)\n",
    "y_sun = df_sunday_train[[\"y\"]]\n",
    "\n",
    "X_for_predictions = test_df.drop(['delivery_area_id', 'last_date'], axis = 1)\n",
    "X_for_predictions = X_for_predictions.replace(np.inf, 1)"
   ]
  },
  {
   "cell_type": "code",
   "execution_count": 39,
   "id": "ed8d2466",
   "metadata": {},
   "outputs": [],
   "source": [
    "# индексы area_id (для склеивания с предсказаниями)\n",
    "indexes_id = test_df[\"delivery_area_id\"]"
   ]
  },
  {
   "cell_type": "markdown",
   "id": "78f70791",
   "metadata": {},
   "source": [
    "# _ _ _ _ _ _ _ _ _ _ _ _ _ _ _ _ _ _ _ _ _ _ _ _ _ _ _ _ _ _ _ _ _ \n",
    "### По одной модели проверим точность прогнозов  "
   ]
  },
  {
   "cell_type": "code",
   "execution_count": 49,
   "id": "d554806b",
   "metadata": {},
   "outputs": [],
   "source": [
    "X_train, X_test, y_train, y_test = train_test_split(X_mon, y_mon, test_size=.20)"
   ]
  },
  {
   "cell_type": "code",
   "execution_count": 50,
   "id": "b97468c6",
   "metadata": {},
   "outputs": [],
   "source": [
    "def MAPE(Y_actual,Y_Predicted):\n",
    "    mape = np.mean(np.abs((Y_actual - Y_Predicted)/Y_actual))*100\n",
    "    return mape"
   ]
  },
  {
   "cell_type": "code",
   "execution_count": 51,
   "id": "b026dc7a",
   "metadata": {},
   "outputs": [
    {
     "name": "stdout",
     "output_type": "stream",
     "text": [
      "MAPE:  y    16.715316\n",
      "dtype: float64\n"
     ]
    }
   ],
   "source": [
    "lr = LinearRegression().fit(X_train , y_train)\n",
    "LR_Test_predict = lr.predict(X_test)\n",
    "LR_MAPE= MAPE(y_test,LR_Test_predict)\n",
    "print(\"MAPE: \",LR_MAPE)"
   ]
  },
  {
   "cell_type": "markdown",
   "id": "49cad82f",
   "metadata": {},
   "source": [
    "# _ _ _ _ _ _ _ _ _ _ _ _ _ _ _ _ _ _ _ _ _ _ _ _ _ _ _ _ _ _ _ _ _ "
   ]
  },
  {
   "cell_type": "code",
   "execution_count": 52,
   "id": "5e7d3fb8",
   "metadata": {},
   "outputs": [],
   "source": [
    "### обучение моделей\n",
    "\n",
    "lr_mon = LinearRegression().fit(X_mon , y_mon)\n",
    "lr_tue = LinearRegression().fit(X_tue , y_tue)\n",
    "lr_wed = LinearRegression().fit(X_wed , y_wed)\n",
    "lr_thu = LinearRegression().fit(X_thu , y_thu)\n",
    "lr_fri = LinearRegression().fit(X_fri , y_fri)\n",
    "lr_sat = LinearRegression().fit(X_sat , y_sat)\n",
    "lr_sun = LinearRegression().fit(X_sun , y_sun)"
   ]
  },
  {
   "cell_type": "code",
   "execution_count": 53,
   "id": "11390768",
   "metadata": {},
   "outputs": [],
   "source": [
    "# получение предсказаний\n",
    "\n",
    "pred_mon = lr_mon.predict(X_for_predictions)\n",
    "pred_tue = lr_tue.predict(X_for_predictions)\n",
    "pred_wed = lr_wed.predict(X_for_predictions)\n",
    "pred_thu = lr_thu.predict(X_for_predictions)\n",
    "pred_fri = lr_fri.predict(X_for_predictions)\n",
    "pred_sat = lr_sat.predict(X_for_predictions)\n",
    "pred_sun = lr_sun.predict(X_for_predictions)"
   ]
  },
  {
   "cell_type": "code",
   "execution_count": 54,
   "id": "b3252c35",
   "metadata": {},
   "outputs": [],
   "source": [
    "df_pred_mon = pd.DataFrame({'delivery_area_id': list(indexes_id),\n",
    "              'prediction_norm' : np.concatenate(pred_mon).tolist()\n",
    "             })\n",
    "\n",
    "df_pred_tue = pd.DataFrame({'delivery_area_id': list(indexes_id),\n",
    "              'prediction_norm' : np.concatenate(pred_tue).tolist()\n",
    "             })\n",
    "\n",
    "df_pred_wed = pd.DataFrame({'delivery_area_id': list(indexes_id),\n",
    "              'prediction_norm' : np.concatenate(pred_wed).tolist()\n",
    "             })\n",
    "\n",
    "df_pred_thu = pd.DataFrame({'delivery_area_id': list(indexes_id),\n",
    "              'prediction_norm' : np.concatenate(pred_thu).tolist()\n",
    "             })\n",
    "\n",
    "df_pred_fri = pd.DataFrame({'delivery_area_id': list(indexes_id),\n",
    "              'prediction_norm' : np.concatenate(pred_fri).tolist()\n",
    "             })\n",
    "\n",
    "df_pred_sat = pd.DataFrame({'delivery_area_id': list(indexes_id),\n",
    "              'prediction_norm' : np.concatenate(pred_sat).tolist()\n",
    "             })\n",
    "\n",
    "df_pred_sun = pd.DataFrame({'delivery_area_id': list(indexes_id),\n",
    "              'prediction_norm' : np.concatenate(pred_sun).tolist()\n",
    "             })"
   ]
  },
  {
   "cell_type": "code",
   "execution_count": 55,
   "id": "e4957bb3",
   "metadata": {},
   "outputs": [],
   "source": [
    "medians = medians.fillna(medians.mean())\n",
    "\n",
    "df_pred_mon = df_pred_mon.merge(medians, how = \"inner\", on = [\"delivery_area_id\"])\n",
    "df_pred_tue = df_pred_tue.merge(medians, how = \"inner\", on = [\"delivery_area_id\"])\n",
    "df_pred_wed = df_pred_wed.merge(medians, how = \"inner\", on = [\"delivery_area_id\"])\n",
    "df_pred_thu = df_pred_thu.merge(medians, how = \"inner\", on = [\"delivery_area_id\"])\n",
    "df_pred_fri = df_pred_fri.merge(medians, how = \"inner\", on = [\"delivery_area_id\"])\n",
    "df_pred_sat = df_pred_sat.merge(medians, how = \"inner\", on = [\"delivery_area_id\"])\n",
    "df_pred_sun = df_pred_sun.merge(medians, how = \"inner\", on = [\"delivery_area_id\"])"
   ]
  },
  {
   "cell_type": "code",
   "execution_count": 56,
   "id": "2fb2fca6",
   "metadata": {},
   "outputs": [],
   "source": [
    "for df_help in [df_pred_mon, df_pred_tue, df_pred_wed,\n",
    "                df_pred_thu, df_pred_fri, df_pred_sat, df_pred_sun]:\n",
    "    df_help[\"prediction\"] =  df_help[\"prediction_norm\"] * df_help[\"median\"]"
   ]
  },
  {
   "cell_type": "code",
   "execution_count": 57,
   "id": "c79aaa6c",
   "metadata": {},
   "outputs": [],
   "source": [
    "df_pred_mon = df_pred_mon[[\"delivery_area_id\", \"prediction\"]]\n",
    "df_pred_tue = df_pred_tue[[\"delivery_area_id\", \"prediction\"]]\n",
    "df_pred_wed = df_pred_wed[[\"delivery_area_id\", \"prediction\"]]\n",
    "df_pred_thu = df_pred_thu[[\"delivery_area_id\", \"prediction\"]]\n",
    "df_pred_fri = df_pred_fri[[\"delivery_area_id\", \"prediction\"]]\n",
    "df_pred_sat = df_pred_sat[[\"delivery_area_id\", \"prediction\"]]\n",
    "df_pred_sun = df_pred_sun[[\"delivery_area_id\", \"prediction\"]]"
   ]
  },
  {
   "cell_type": "code",
   "execution_count": null,
   "id": "4b18cfe1",
   "metadata": {},
   "outputs": [],
   "source": [
    "df_pred_mon.to_csv(\"./proceeded/predictions/monday.csv\", sep = \";\", index = False)\n",
    "df_pred_tue.to_csv(\"./proceeded/predictions/tuesday.csv\", sep = \";\", index = False)\n",
    "df_pred_wed.to_csv(\"./proceeded/predictions/wednesday.csv\", sep = \";\", index = False)\n",
    "df_pred_thu.to_csv(\"./proceeded/predictions/thursday.csv\", sep = \";\", index = False)\n",
    "df_pred_fri.to_csv(\"./proceeded/predictions/friday.csv\", sep = \";\", index = False)\n",
    "df_pred_sat.to_csv(\"./proceeded/predictions/saturday.csv\", sep = \";\", index = False)\n",
    "df_pred_sun.to_csv(\"./proceeded/predictions/sunday.csv\", sep = \";\", index = False)"
   ]
  }
 ],
 "metadata": {
  "kernelspec": {
   "display_name": "Python 3",
   "language": "python",
   "name": "python3"
  },
  "language_info": {
   "codemirror_mode": {
    "name": "ipython",
    "version": 3
   },
   "file_extension": ".py",
   "mimetype": "text/x-python",
   "name": "python",
   "nbconvert_exporter": "python",
   "pygments_lexer": "ipython3",
   "version": "3.8.8"
  }
 },
 "nbformat": 4,
 "nbformat_minor": 5
}
